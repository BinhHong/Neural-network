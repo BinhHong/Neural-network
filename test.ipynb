{
 "cells": [
  {
   "cell_type": "code",
   "execution_count": 11,
   "id": "9538c04a",
   "metadata": {},
   "outputs": [],
   "source": [
    "import numpy as np\n",
    "import matplotlib.pyplot as plt\n",
    "import tensorflow as tf\n",
    "\n",
    "from tensorflow.keras import Sequential\n",
    "from tensorflow.keras.layers import Dense, Input\n",
    "from tensorflow.keras.losses import MeanSquaredError, BinaryCrossentropy\n",
    "from tensorflow.keras.activations import sigmoid"
   ]
  },
  {
   "cell_type": "markdown",
   "id": "a92efaf4",
   "metadata": {},
   "source": [
    "# 1. Simple, hand-made"
   ]
  },
  {
   "cell_type": "markdown",
   "id": "13364076",
   "metadata": {},
   "source": [
    "## a. simple linear model"
   ]
  },
  {
   "cell_type": "code",
   "execution_count": 13,
   "id": "05a46dae",
   "metadata": {},
   "outputs": [],
   "source": [
    "x_train = np.array([[1],[2]],dtype= np.float32)\n",
    "y_train = np.array([[300],[500]],dtype= np.float32)"
   ]
  },
  {
   "cell_type": "code",
   "execution_count": 20,
   "id": "95b7ce81",
   "metadata": {},
   "outputs": [
    {
     "data": {
      "text/plain": [
       "Text(0.5, 0, 'size')"
      ]
     },
     "execution_count": 20,
     "metadata": {},
     "output_type": "execute_result"
    },
    {
     "data": {
      "image/png": "[encoded data removed]",
      "text/plain": [
       "<Figure size 432x288 with 1 Axes>"
      ]
     },
     "metadata": {
      "needs_background": "light"
     },
     "output_type": "display_data"
    }
   ],
   "source": [
    "# visualize\n",
    "plt.scatter(x_train, y_train, marker=\"x\", c = 'r', label = 'data points')\n",
    "plt.legend(fontsize='xx-large')\n",
    "#plt.xlabel('size', fontsize= 15)\n",
    "plt.ylabel('price', fontsize = 15)\n",
    "\n",
    "ax=plt.gca()\n",
    "ax.set_xlabel('size', fontsize=15)\n"
   ]
  },
  {
   "cell_type": "code",
   "execution_count": 21,
   "id": "80d784ac",
   "metadata": {},
   "outputs": [],
   "source": [
    "#\n",
    "linear_model = Dense(units=1, activation='linear')"
   ]
  },
  {
   "cell_type": "code",
   "execution_count": 22,
   "id": "604e3d65",
   "metadata": {},
   "outputs": [
    {
     "data": {
      "text/plain": [
       "[]"
      ]
     },
     "execution_count": 22,
     "metadata": {},
     "output_type": "execute_result"
    }
   ],
   "source": [
    "# check weights will get nothing\n",
    "linear_model.get_weights()"
   ]
  },
  {
   "cell_type": "code",
   "execution_count": 24,
   "id": "8f27947e",
   "metadata": {},
   "outputs": [
    {
     "data": {
      "text/plain": [
       "[array([[-1.261416]], dtype=float32), array([0.], dtype=float32)]"
      ]
     },
     "execution_count": 24,
     "metadata": {},
     "output_type": "execute_result"
    }
   ],
   "source": [
    "# now give it a value, it will instantiate weights\n",
    "# value must be 2d\n",
    "linear_model(x_train[0].reshape(1,1))\n",
    "linear_model.get_weights()"
   ]
  },
  {
   "cell_type": "code",
   "execution_count": 25,
   "id": "04b8d750",
   "metadata": {},
   "outputs": [],
   "source": [
    "# later on, we can give it all values that are train values (2d), it will return the predicted values. \n",
    "# so it acts like a function with input is 2d"
   ]
  },
  {
   "cell_type": "code",
   "execution_count": 27,
   "id": "5878cc0e",
   "metadata": {},
   "outputs": [],
   "source": [
    "# i need other weights as I like\n",
    "# w must be 2d\n",
    "set_w = np.array([[200]])\n",
    "set_b = np.array([100])\n",
    "\n",
    "\n",
    "# desired weights are put in a list\n",
    "linear_model.set_weights([set_w, set_b])"
   ]
  },
  {
   "cell_type": "code",
   "execution_count": 28,
   "id": "5ab6844e",
   "metadata": {},
   "outputs": [
    {
     "data": {
      "text/plain": [
       "[array([[200.]], dtype=float32), array([100.], dtype=float32)]"
      ]
     },
     "execution_count": 28,
     "metadata": {},
     "output_type": "execute_result"
    }
   ],
   "source": [
    "# check back, it must be as expected\n",
    "linear_model.get_weights()"
   ]
  },
  {
   "cell_type": "code",
   "execution_count": 29,
   "id": "be8de963",
   "metadata": {},
   "outputs": [
    {
     "data": {
      "text/plain": [
       "<tf.Tensor: shape=(2, 1), dtype=float32, numpy=\n",
       "array([[300.],\n",
       "       [500.]], dtype=float32)>"
      ]
     },
     "execution_count": 29,
     "metadata": {},
     "output_type": "execute_result"
    }
   ],
   "source": [
    "# now this time for prediction\n",
    "linear_model(x_train)"
   ]
  },
  {
   "cell_type": "code",
   "execution_count": 31,
   "id": "ee4dc52c",
   "metadata": {},
   "outputs": [
    {
     "data": {
      "text/plain": [
       "array([[300.],\n",
       "       [500.]])"
      ]
     },
     "execution_count": 31,
     "metadata": {},
     "output_type": "execute_result"
    }
   ],
   "source": [
    "# compare with usual computation\n",
    "np.dot(x_train, set_w) + set_b"
   ]
  },
  {
   "cell_type": "code",
   "execution_count": 34,
   "id": "12967329",
   "metadata": {},
   "outputs": [
    {
     "name": "stdout",
     "output_type": "stream",
     "text": [
      "w=[[200.]],b=[100.]\n"
     ]
    }
   ],
   "source": [
    "# note that get_weights() gives a list, so we can write\n",
    "a,b = linear_model.get_weights()\n",
    "print(f\"w={a},b={b}\" )"
   ]
  },
  {
   "cell_type": "markdown",
   "id": "ad19d71e",
   "metadata": {},
   "source": [
    "## b. Logistic regression using tf"
   ]
  },
  {
   "cell_type": "code",
   "execution_count": 37,
   "id": "7ca3ce11",
   "metadata": {},
   "outputs": [],
   "source": [
    "x_train = np.arange(0,6).reshape(-1,1)\n",
    "y_train = np.array([0,0,0,1,1,1])"
   ]
  },
  {
   "cell_type": "code",
   "execution_count": 50,
   "id": "d663eb1d",
   "metadata": {},
   "outputs": [
    {
     "data": {
      "text/plain": [
       "<matplotlib.legend.Legend at 0x234424292e0>"
      ]
     },
     "execution_count": 50,
     "metadata": {},
     "output_type": "execute_result"
    },
    {
     "data": {
      "image/png": "[encoded data removed]",
      "text/plain": [
       "<Figure size 432x288 with 1 Axes>"
      ]
     },
     "metadata": {
      "needs_background": "light"
     },
     "output_type": "display_data"
    }
   ],
   "source": [
    "# visualize\n",
    "positive = y_train == 1\n",
    "negative = y_train == 0\n",
    "\n",
    "plt.scatter(x_train[negative], y_train[negative], marker='o',s=100,c='red', label ='negative', facecolors= 'none', lw = 3)\n",
    "plt.scatter(x_train[positive], y_train[positive], marker='x',s=80,c='blue', label ='positive')\n",
    "plt.gca().set_xlabel('x', size = 15)\n",
    "plt.gca().set_ylabel('y', size = 15)\n",
    "plt.legend(fontsize=15)"
   ]
  },
  {
   "cell_type": "code",
   "execution_count": 63,
   "id": "a0a2b4f3",
   "metadata": {},
   "outputs": [],
   "source": [
    "# set input_dim = 1 helps build model, so that call .summary() works. This is equivalent to feed model a value\n",
    "model = Sequential(\n",
    "    [\n",
    "        Dense(1, input_dim = 1, activation = 'sigmoid', name = 'layer1')\n",
    "    ]\n",
    ")"
   ]
  },
  {
   "cell_type": "code",
   "execution_count": 64,
   "id": "f72818b7",
   "metadata": {},
   "outputs": [
    {
     "name": "stdout",
     "output_type": "stream",
     "text": [
      "Model: \"sequential_4\"\n",
      "_________________________________________________________________\n",
      " Layer (type)                Output Shape              Param #   \n",
      "=================================================================\n",
      " layer1 (Dense)              (None, 1)                 2         \n",
      "                                                                 \n",
      "=================================================================\n",
      "Total params: 2\n",
      "Trainable params: 2\n",
      "Non-trainable params: 0\n",
      "_________________________________________________________________\n"
     ]
    }
   ],
   "source": [
    "# check model\n",
    "model.summary()"
   ]
  },
  {
   "cell_type": "code",
   "execution_count": 65,
   "id": "cbab252c",
   "metadata": {},
   "outputs": [],
   "source": [
    "# take out one layer to work\n",
    "logistic_layer = model.get_layer('layer1')"
   ]
  },
  {
   "cell_type": "code",
   "execution_count": 69,
   "id": "0d71ddf7",
   "metadata": {},
   "outputs": [
    {
     "data": {
      "text/plain": [
       "[array([[0.752123]], dtype=float32), array([0.], dtype=float32)]"
      ]
     },
     "execution_count": 69,
     "metadata": {},
     "output_type": "execute_result"
    }
   ],
   "source": [
    "# it is already instantiated, because of input_dim = 1\n",
    "logistic_layer.get_weights()"
   ]
  },
  {
   "cell_type": "code",
   "execution_count": 70,
   "id": "e85fa71c",
   "metadata": {},
   "outputs": [],
   "source": [
    "# set new weights\n",
    "set_w = np.array([[3]])\n",
    "set_b = np.array([7])\n",
    "logistic_layer.set_weights([set_w,set_b])"
   ]
  },
  {
   "cell_type": "code",
   "execution_count": 71,
   "id": "c72593b1",
   "metadata": {},
   "outputs": [
    {
     "data": {
      "text/plain": [
       "[array([[3.]], dtype=float32), array([7.], dtype=float32)]"
      ]
     },
     "execution_count": 71,
     "metadata": {},
     "output_type": "execute_result"
    }
   ],
   "source": [
    "# check back\n",
    "logistic_layer.get_weights()"
   ]
  },
  {
   "cell_type": "code",
   "execution_count": 73,
   "id": "8ee66224",
   "metadata": {},
   "outputs": [
    {
     "data": {
      "text/plain": [
       "<tf.Tensor: shape=(1, 1), dtype=float32, numpy=array([[0.9999546]], dtype=float32)>"
      ]
     },
     "execution_count": 73,
     "metadata": {},
     "output_type": "execute_result"
    }
   ],
   "source": [
    "# compute some values\n",
    "logistic_layer(x_train[1].reshape(-1,1))"
   ]
  },
  {
   "cell_type": "code",
   "execution_count": 74,
   "id": "bea4832b",
   "metadata": {},
   "outputs": [
    {
     "data": {
      "text/plain": [
       "<tf.Tensor: shape=(6, 1), dtype=float32, numpy=\n",
       "array([[0.99908894],\n",
       "       [0.9999546 ],\n",
       "       [0.99999774],\n",
       "       [0.9999999 ],\n",
       "       [1.        ],\n",
       "       [1.        ]], dtype=float32)>"
      ]
     },
     "execution_count": 74,
     "metadata": {},
     "output_type": "execute_result"
    }
   ],
   "source": [
    "# compute the whole x_train\n",
    "logistic_layer(x_train)"
   ]
  },
  {
   "cell_type": "code",
   "execution_count": 75,
   "id": "44f03a08",
   "metadata": {},
   "outputs": [
    {
     "name": "stdout",
     "output_type": "stream",
     "text": [
      "1/1 [==============================] - 0s 146ms/step\n"
     ]
    },
    {
     "data": {
      "text/plain": [
       "array([[0.99908894],\n",
       "       [0.9999546 ],\n",
       "       [0.99999774],\n",
       "       [0.9999999 ],\n",
       "       [1.        ],\n",
       "       [1.        ]], dtype=float32)"
      ]
     },
     "execution_count": 75,
     "metadata": {},
     "output_type": "execute_result"
    }
   ],
   "source": [
    "# model can predict as well\n",
    "model.predict(x_train)"
   ]
  },
  {
   "cell_type": "code",
   "execution_count": null,
   "id": "c691a097",
   "metadata": {},
   "outputs": [],
   "source": []
  }
 ],
 "metadata": {
  "kernelspec": {
   "display_name": "Python 3 (ipykernel)",
   "language": "python",
   "name": "python3"
  },
  "language_info": {
   "codemirror_mode": {
    "name": "ipython",
    "version": 3
   },
   "file_extension": ".py",
   "mimetype": "text/x-python",
   "name": "python",
   "nbconvert_exporter": "python",
   "pygments_lexer": "ipython3",
   "version": "3.9.7"
  }
 },
 "nbformat": 4,
 "nbformat_minor": 5
}
