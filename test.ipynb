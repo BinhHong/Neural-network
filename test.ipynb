{
 "cells": [
  {
   "cell_type": "code",
   "execution_count": 11,
   "id": "7a4c7422",
   "metadata": {},
   "outputs": [],
   "source": [
    "import numpy as np\n",
    "import matplotlib.pyplot as plt\n",
    "import tensorflow as tf\n",
    "\n",
    "from tensorflow.keras import Sequential\n",
    "from tensorflow.keras.layers import Dense, Input\n",
    "from tensorflow.keras.losses import MeanSquaredError, BinaryCrossentropy\n",
    "from tensorflow.keras.activations import sigmoid"
   ]
  },
  {
   "cell_type": "markdown",
   "id": "1ed7db25",
   "metadata": {},
   "source": [
    "# 1. Simple, hand-made"
   ]
  },
  {
   "cell_type": "markdown",
   "id": "e74d5d86",
   "metadata": {},
   "source": [
    "## a. simple linear model"
   ]
  },
  {
   "cell_type": "code",
   "execution_count": 13,
   "id": "0fd23719",
   "metadata": {},
   "outputs": [],
   "source": [
    "x_train = np.array([[1],[2]],dtype= np.float32)\n",
    "y_train = np.array([[300],[500]],dtype= np.float32)"
   ]
  },
  {
   "cell_type": "code",
   "execution_count": 20,
   "id": "2114ab59",
   "metadata": {},
   "outputs": [
    {
     "data": {
      "text/plain": [
       "Text(0.5, 0, 'size')"
      ]
     },
     "execution_count": 20,
     "metadata": {},
     "output_type": "execute_result"
    },
    {
     "data": {
      "image/png": "[encoded data removed]",
      "text/plain": [
       "<Figure size 432x288 with 1 Axes>"
      ]
     },
     "metadata": {
      "needs_background": "light"
     },
     "output_type": "display_data"
    }
   ],
   "source": [
    "# visualize\n",
    "plt.scatter(x_train, y_train, marker=\"x\", c = 'r', label = 'data points')\n",
    "plt.legend(fontsize='xx-large')\n",
    "#plt.xlabel('size', fontsize= 15)\n",
    "plt.ylabel('price', fontsize = 15)\n",
    "\n",
    "ax=plt.gca()\n",
    "ax.set_xlabel('size', fontsize=15)\n"
   ]
  },
  {
   "cell_type": "code",
   "execution_count": 21,
   "id": "a0bd6199",
   "metadata": {},
   "outputs": [],
   "source": [
    "#\n",
    "linear_model = Dense(units=1, activation='linear')"
   ]
  },
  {
   "cell_type": "code",
   "execution_count": 22,
   "id": "09cf34be",
   "metadata": {},
   "outputs": [
    {
     "data": {
      "text/plain": [
       "[]"
      ]
     },
     "execution_count": 22,
     "metadata": {},
     "output_type": "execute_result"
    }
   ],
   "source": [
    "# check weights will get nothing\n",
    "linear_model.get_weights()"
   ]
  },
  {
   "cell_type": "code",
   "execution_count": 24,
   "id": "114eeb2d",
   "metadata": {},
   "outputs": [
    {
     "data": {
      "text/plain": [
       "[array([[-1.261416]], dtype=float32), array([0.], dtype=float32)]"
      ]
     },
     "execution_count": 24,
     "metadata": {},
     "output_type": "execute_result"
    }
   ],
   "source": [
    "# now give it a value, it will instantiate weights\n",
    "# value must be 2d\n",
    "linear_model(x_train[0].reshape(1,1))\n",
    "linear_model.get_weights()"
   ]
  },
  {
   "cell_type": "code",
   "execution_count": 25,
   "id": "361823bd",
   "metadata": {},
   "outputs": [],
   "source": [
    "# later on, we can give it all values that are train values (2d), it will return the predicted values. \n",
    "# so it acts like a function with input is 2d"
   ]
  },
  {
   "cell_type": "code",
   "execution_count": 27,
   "id": "7fe7b273",
   "metadata": {},
   "outputs": [],
   "source": [
    "# i need other weights as I like\n",
    "# w must be 2d\n",
    "set_w = np.array([[200]])\n",
    "set_b = np.array([100])\n",
    "\n",
    "\n",
    "# desired weights are put in a list\n",
    "linear_model.set_weights([set_w, set_b])"
   ]
  },
  {
   "cell_type": "code",
   "execution_count": 28,
   "id": "92abe2ce",
   "metadata": {},
   "outputs": [
    {
     "data": {
      "text/plain": [
       "[array([[200.]], dtype=float32), array([100.], dtype=float32)]"
      ]
     },
     "execution_count": 28,
     "metadata": {},
     "output_type": "execute_result"
    }
   ],
   "source": [
    "# check back, it must be as expected\n",
    "linear_model.get_weights()"
   ]
  },
  {
   "cell_type": "code",
   "execution_count": 29,
   "id": "432af5da",
   "metadata": {},
   "outputs": [
    {
     "data": {
      "text/plain": [
       "<tf.Tensor: shape=(2, 1), dtype=float32, numpy=\n",
       "array([[300.],\n",
       "       [500.]], dtype=float32)>"
      ]
     },
     "execution_count": 29,
     "metadata": {},
     "output_type": "execute_result"
    }
   ],
   "source": [
    "# now this time for prediction\n",
    "linear_model(x_train)"
   ]
  },
  {
   "cell_type": "code",
   "execution_count": 31,
   "id": "4332769b",
   "metadata": {},
   "outputs": [
    {
     "data": {
      "text/plain": [
       "array([[300.],\n",
       "       [500.]])"
      ]
     },
     "execution_count": 31,
     "metadata": {},
     "output_type": "execute_result"
    }
   ],
   "source": [
    "# compare with usual computation\n",
    "np.dot(x_train, set_w) + set_b"
   ]
  },
  {
   "cell_type": "code",
   "execution_count": 32,
   "id": "a897c2c1",
   "metadata": {},
   "outputs": [],
   "source": [
    "# note that get_weights() gives a list, so we can write\n",
    "a,b = linear_model.get_weights()\n",
    "print(f\"a={a})"
   ]
  },
  {
   "cell_type": "code",
   "execution_count": null,
   "id": "2637cee1",
   "metadata": {},
   "outputs": [],
   "source": []
  }
 ],
 "metadata": {
  "kernelspec": {
   "display_name": "Python 3 (ipykernel)",
   "language": "python",
   "name": "python3"
  },
  "language_info": {
   "codemirror_mode": {
    "name": "ipython",
    "version": 3
   },
   "file_extension": ".py",
   "mimetype": "text/x-python",
   "name": "python",
   "nbconvert_exporter": "python",
   "pygments_lexer": "ipython3",
   "version": "3.9.7"
  }
 },
 "nbformat": 4,
 "nbformat_minor": 5
}
